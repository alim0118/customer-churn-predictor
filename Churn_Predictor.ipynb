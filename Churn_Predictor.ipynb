{
 "cells": [
  {
   "cell_type": "markdown",
   "id": "cedae162-bd86-42b7-9bec-0250e2459674",
   "metadata": {},
   "source": [
    "# Effect of AI on Customer Churn\n",
    "## Predicting Customer Churn"
   ]
  },
  {
   "cell_type": "markdown",
   "id": "4e0a01e7-6061-4ff7-827a-972563d1af25",
   "metadata": {},
   "source": [
    "### Import Libraries"
   ]
  },
  {
   "cell_type": "code",
   "execution_count": 58,
   "id": "b597b58c-ef9f-44e6-b63f-7747a9496644",
   "metadata": {},
   "outputs": [],
   "source": [
    "# import libraries\n",
    "\n",
    "import pandas as pd\n",
    "import numpy as np\n",
    "import seaborn as sns\n",
    "import matplotlib.pyplot as plt\n",
    "%matplotlib inline \n",
    "\n",
    "from sklearn.metrics import classification_report, accuracy_score, confusion_matrix"
   ]
  },
  {
   "cell_type": "markdown",
   "id": "4f10e24b-701b-4486-8c79-4bceaffa34e8",
   "metadata": {},
   "source": [
    "### Import Dataset"
   ]
  },
  {
   "cell_type": "code",
   "execution_count": 3,
   "id": "0dfed720-52b0-4914-9265-d212c8d84e24",
   "metadata": {},
   "outputs": [],
   "source": [
    "# import train and test files\n",
    "train = pd.read_csv(\"train.csv\")\n",
    "test = pd.read_csv(\"test.csv\")"
   ]
  },
  {
   "cell_type": "code",
   "execution_count": 4,
   "id": "fb28f609-4830-4a19-8f8b-6c24684df022",
   "metadata": {},
   "outputs": [
    {
     "data": {
      "text/html": [
       "<div>\n",
       "<style scoped>\n",
       "    .dataframe tbody tr th:only-of-type {\n",
       "        vertical-align: middle;\n",
       "    }\n",
       "\n",
       "    .dataframe tbody tr th {\n",
       "        vertical-align: top;\n",
       "    }\n",
       "\n",
       "    .dataframe thead th {\n",
       "        text-align: right;\n",
       "    }\n",
       "</style>\n",
       "<table border=\"1\" class=\"dataframe\">\n",
       "  <thead>\n",
       "    <tr style=\"text-align: right;\">\n",
       "      <th></th>\n",
       "      <th>ID</th>\n",
       "      <th>Age</th>\n",
       "      <th>AI_Interaction_Level</th>\n",
       "      <th>Satisfaction_with_AI_Services</th>\n",
       "      <th>AI_Personalization_Effectiveness</th>\n",
       "      <th>AI_Response_Time</th>\n",
       "      <th>Overall_Usage_Frequency</th>\n",
       "      <th>Customer_Service_Interactions</th>\n",
       "      <th>Change_in_Usage_Patterns</th>\n",
       "      <th>Customer_Churn</th>\n",
       "    </tr>\n",
       "  </thead>\n",
       "  <tbody>\n",
       "    <tr>\n",
       "      <th>0</th>\n",
       "      <td>1</td>\n",
       "      <td>59</td>\n",
       "      <td>2</td>\n",
       "      <td>7</td>\n",
       "      <td>7</td>\n",
       "      <td>2</td>\n",
       "      <td>18</td>\n",
       "      <td>5</td>\n",
       "      <td>2</td>\n",
       "      <td>1</td>\n",
       "    </tr>\n",
       "    <tr>\n",
       "      <th>1</th>\n",
       "      <td>2</td>\n",
       "      <td>49</td>\n",
       "      <td>2</td>\n",
       "      <td>6</td>\n",
       "      <td>5</td>\n",
       "      <td>1</td>\n",
       "      <td>3</td>\n",
       "      <td>2</td>\n",
       "      <td>0</td>\n",
       "      <td>0</td>\n",
       "    </tr>\n",
       "    <tr>\n",
       "      <th>2</th>\n",
       "      <td>3</td>\n",
       "      <td>35</td>\n",
       "      <td>2</td>\n",
       "      <td>3</td>\n",
       "      <td>3</td>\n",
       "      <td>3</td>\n",
       "      <td>8</td>\n",
       "      <td>2</td>\n",
       "      <td>1</td>\n",
       "      <td>1</td>\n",
       "    </tr>\n",
       "    <tr>\n",
       "      <th>3</th>\n",
       "      <td>4</td>\n",
       "      <td>63</td>\n",
       "      <td>2</td>\n",
       "      <td>3</td>\n",
       "      <td>3</td>\n",
       "      <td>2</td>\n",
       "      <td>6</td>\n",
       "      <td>6</td>\n",
       "      <td>2</td>\n",
       "      <td>1</td>\n",
       "    </tr>\n",
       "    <tr>\n",
       "      <th>4</th>\n",
       "      <td>5</td>\n",
       "      <td>28</td>\n",
       "      <td>4</td>\n",
       "      <td>6</td>\n",
       "      <td>6</td>\n",
       "      <td>1</td>\n",
       "      <td>11</td>\n",
       "      <td>3</td>\n",
       "      <td>-1</td>\n",
       "      <td>0</td>\n",
       "    </tr>\n",
       "  </tbody>\n",
       "</table>\n",
       "</div>"
      ],
      "text/plain": [
       "   ID  Age  AI_Interaction_Level  Satisfaction_with_AI_Services  \\\n",
       "0   1   59                     2                              7   \n",
       "1   2   49                     2                              6   \n",
       "2   3   35                     2                              3   \n",
       "3   4   63                     2                              3   \n",
       "4   5   28                     4                              6   \n",
       "\n",
       "   AI_Personalization_Effectiveness  AI_Response_Time  \\\n",
       "0                                 7                 2   \n",
       "1                                 5                 1   \n",
       "2                                 3                 3   \n",
       "3                                 3                 2   \n",
       "4                                 6                 1   \n",
       "\n",
       "   Overall_Usage_Frequency  Customer_Service_Interactions  \\\n",
       "0                       18                              5   \n",
       "1                        3                              2   \n",
       "2                        8                              2   \n",
       "3                        6                              6   \n",
       "4                       11                              3   \n",
       "\n",
       "   Change_in_Usage_Patterns  Customer_Churn  \n",
       "0                         2               1  \n",
       "1                         0               0  \n",
       "2                         1               1  \n",
       "3                         2               1  \n",
       "4                        -1               0  "
      ]
     },
     "execution_count": 4,
     "metadata": {},
     "output_type": "execute_result"
    }
   ],
   "source": [
    "train.head()"
   ]
  },
  {
   "cell_type": "code",
   "execution_count": 5,
   "id": "91705dc4-db1a-45d9-98af-01bbb723056e",
   "metadata": {
    "scrolled": true
   },
   "outputs": [
    {
     "data": {
      "text/html": [
       "<div>\n",
       "<style scoped>\n",
       "    .dataframe tbody tr th:only-of-type {\n",
       "        vertical-align: middle;\n",
       "    }\n",
       "\n",
       "    .dataframe tbody tr th {\n",
       "        vertical-align: top;\n",
       "    }\n",
       "\n",
       "    .dataframe thead th {\n",
       "        text-align: right;\n",
       "    }\n",
       "</style>\n",
       "<table border=\"1\" class=\"dataframe\">\n",
       "  <thead>\n",
       "    <tr style=\"text-align: right;\">\n",
       "      <th></th>\n",
       "      <th>ID</th>\n",
       "      <th>Age</th>\n",
       "      <th>AI_Interaction_Level</th>\n",
       "      <th>Satisfaction_with_AI_Services</th>\n",
       "      <th>AI_Personalization_Effectiveness</th>\n",
       "      <th>AI_Response_Time</th>\n",
       "      <th>Overall_Usage_Frequency</th>\n",
       "      <th>Customer_Service_Interactions</th>\n",
       "      <th>Change_in_Usage_Patterns</th>\n",
       "      <th>Customer_Churn</th>\n",
       "    </tr>\n",
       "  </thead>\n",
       "  <tbody>\n",
       "    <tr>\n",
       "      <th>0</th>\n",
       "      <td>1</td>\n",
       "      <td>59</td>\n",
       "      <td>1</td>\n",
       "      <td>2</td>\n",
       "      <td>3</td>\n",
       "      <td>1</td>\n",
       "      <td>11</td>\n",
       "      <td>5</td>\n",
       "      <td>-1</td>\n",
       "      <td>1</td>\n",
       "    </tr>\n",
       "    <tr>\n",
       "      <th>1</th>\n",
       "      <td>2</td>\n",
       "      <td>49</td>\n",
       "      <td>3</td>\n",
       "      <td>4</td>\n",
       "      <td>3</td>\n",
       "      <td>2</td>\n",
       "      <td>2</td>\n",
       "      <td>0</td>\n",
       "      <td>2</td>\n",
       "      <td>1</td>\n",
       "    </tr>\n",
       "    <tr>\n",
       "      <th>2</th>\n",
       "      <td>3</td>\n",
       "      <td>35</td>\n",
       "      <td>3</td>\n",
       "      <td>7</td>\n",
       "      <td>6</td>\n",
       "      <td>2</td>\n",
       "      <td>22</td>\n",
       "      <td>4</td>\n",
       "      <td>0</td>\n",
       "      <td>1</td>\n",
       "    </tr>\n",
       "    <tr>\n",
       "      <th>3</th>\n",
       "      <td>4</td>\n",
       "      <td>63</td>\n",
       "      <td>2</td>\n",
       "      <td>8</td>\n",
       "      <td>8</td>\n",
       "      <td>1</td>\n",
       "      <td>25</td>\n",
       "      <td>4</td>\n",
       "      <td>-1</td>\n",
       "      <td>1</td>\n",
       "    </tr>\n",
       "    <tr>\n",
       "      <th>4</th>\n",
       "      <td>5</td>\n",
       "      <td>28</td>\n",
       "      <td>4</td>\n",
       "      <td>5</td>\n",
       "      <td>5</td>\n",
       "      <td>2</td>\n",
       "      <td>14</td>\n",
       "      <td>1</td>\n",
       "      <td>1</td>\n",
       "      <td>1</td>\n",
       "    </tr>\n",
       "  </tbody>\n",
       "</table>\n",
       "</div>"
      ],
      "text/plain": [
       "   ID  Age  AI_Interaction_Level  Satisfaction_with_AI_Services  \\\n",
       "0   1   59                     1                              2   \n",
       "1   2   49                     3                              4   \n",
       "2   3   35                     3                              7   \n",
       "3   4   63                     2                              8   \n",
       "4   5   28                     4                              5   \n",
       "\n",
       "   AI_Personalization_Effectiveness  AI_Response_Time  \\\n",
       "0                                 3                 1   \n",
       "1                                 3                 2   \n",
       "2                                 6                 2   \n",
       "3                                 8                 1   \n",
       "4                                 5                 2   \n",
       "\n",
       "   Overall_Usage_Frequency  Customer_Service_Interactions  \\\n",
       "0                       11                              5   \n",
       "1                        2                              0   \n",
       "2                       22                              4   \n",
       "3                       25                              4   \n",
       "4                       14                              1   \n",
       "\n",
       "   Change_in_Usage_Patterns  Customer_Churn  \n",
       "0                        -1               1  \n",
       "1                         2               1  \n",
       "2                         0               1  \n",
       "3                        -1               1  \n",
       "4                         1               1  "
      ]
     },
     "execution_count": 5,
     "metadata": {},
     "output_type": "execute_result"
    }
   ],
   "source": [
    "test.head()"
   ]
  },
  {
   "cell_type": "markdown",
   "id": "538cfb2b-4f10-48ae-9d65-ec6e66739691",
   "metadata": {},
   "source": [
    "### Data Exploration"
   ]
  },
  {
   "cell_type": "markdown",
   "id": "0db9c0dd-7f52-4561-9ff5-cf1e6742e2a8",
   "metadata": {},
   "source": [
    "#### Data dimensions, feature names and feature types"
   ]
  },
  {
   "cell_type": "markdown",
   "id": "ef3e2b4e-9252-477d-811e-e2a29b29d69b",
   "metadata": {},
   "source": [
    "##### Training data"
   ]
  },
  {
   "cell_type": "code",
   "execution_count": 6,
   "id": "66dab05a-c03f-41f8-8773-1dff19e7f2a2",
   "metadata": {},
   "outputs": [
    {
     "data": {
      "text/plain": [
       "(5000, 10)"
      ]
     },
     "execution_count": 6,
     "metadata": {},
     "output_type": "execute_result"
    }
   ],
   "source": [
    "train.shape"
   ]
  },
  {
   "cell_type": "code",
   "execution_count": 7,
   "id": "2ed3c3f8-2ce4-42fb-ac5e-02c48b562b0e",
   "metadata": {},
   "outputs": [
    {
     "data": {
      "text/plain": [
       "Index(['ID', 'Age', 'AI_Interaction_Level', 'Satisfaction_with_AI_Services',\n",
       "       'AI_Personalization_Effectiveness', 'AI_Response_Time',\n",
       "       'Overall_Usage_Frequency', 'Customer_Service_Interactions',\n",
       "       'Change_in_Usage_Patterns', 'Customer_Churn'],\n",
       "      dtype='object')"
      ]
     },
     "execution_count": 7,
     "metadata": {},
     "output_type": "execute_result"
    }
   ],
   "source": [
    "train.columns"
   ]
  },
  {
   "cell_type": "code",
   "execution_count": 8,
   "id": "fab0bb02-7bc4-4627-a691-e6aef651e804",
   "metadata": {
    "scrolled": true
   },
   "outputs": [
    {
     "data": {
      "text/plain": [
       "ID                                  int64\n",
       "Age                                 int64\n",
       "AI_Interaction_Level                int64\n",
       "Satisfaction_with_AI_Services       int64\n",
       "AI_Personalization_Effectiveness    int64\n",
       "AI_Response_Time                    int64\n",
       "Overall_Usage_Frequency             int64\n",
       "Customer_Service_Interactions       int64\n",
       "Change_in_Usage_Patterns            int64\n",
       "Customer_Churn                      int64\n",
       "dtype: object"
      ]
     },
     "execution_count": 8,
     "metadata": {},
     "output_type": "execute_result"
    }
   ],
   "source": [
    "train.dtypes"
   ]
  },
  {
   "cell_type": "code",
   "execution_count": 9,
   "id": "b25a7b6e-3396-4c21-ad55-9f2133e47561",
   "metadata": {},
   "outputs": [
    {
     "data": {
      "text/plain": [
       "Customer_Churn\n",
       "0    0.5818\n",
       "1    0.4182\n",
       "Name: proportion, dtype: float64"
      ]
     },
     "execution_count": 9,
     "metadata": {},
     "output_type": "execute_result"
    }
   ],
   "source": [
    "train['Customer_Churn'].value_counts(normalize=True)"
   ]
  },
  {
   "cell_type": "code",
   "execution_count": 10,
   "id": "cbde048d-dbe0-475f-8eb2-93a747139f28",
   "metadata": {},
   "outputs": [
    {
     "data": {
      "text/html": [
       "<div>\n",
       "<style scoped>\n",
       "    .dataframe tbody tr th:only-of-type {\n",
       "        vertical-align: middle;\n",
       "    }\n",
       "\n",
       "    .dataframe tbody tr th {\n",
       "        vertical-align: top;\n",
       "    }\n",
       "\n",
       "    .dataframe thead th {\n",
       "        text-align: right;\n",
       "    }\n",
       "</style>\n",
       "<table border=\"1\" class=\"dataframe\">\n",
       "  <thead>\n",
       "    <tr style=\"text-align: right;\">\n",
       "      <th></th>\n",
       "      <th>ID</th>\n",
       "      <th>Age</th>\n",
       "      <th>AI_Interaction_Level</th>\n",
       "      <th>Satisfaction_with_AI_Services</th>\n",
       "      <th>AI_Personalization_Effectiveness</th>\n",
       "      <th>AI_Response_Time</th>\n",
       "      <th>Overall_Usage_Frequency</th>\n",
       "      <th>Customer_Service_Interactions</th>\n",
       "      <th>Change_in_Usage_Patterns</th>\n",
       "      <th>Customer_Churn</th>\n",
       "    </tr>\n",
       "  </thead>\n",
       "  <tbody>\n",
       "    <tr>\n",
       "      <th>count</th>\n",
       "      <td>5000.000000</td>\n",
       "      <td>5000.000000</td>\n",
       "      <td>5000.000000</td>\n",
       "      <td>5000.00000</td>\n",
       "      <td>5000.000000</td>\n",
       "      <td>5000.000000</td>\n",
       "      <td>5000.000000</td>\n",
       "      <td>5000.000000</td>\n",
       "      <td>5000.000000</td>\n",
       "      <td>5000.000000</td>\n",
       "    </tr>\n",
       "    <tr>\n",
       "      <th>mean</th>\n",
       "      <td>2500.500000</td>\n",
       "      <td>42.575000</td>\n",
       "      <td>2.468800</td>\n",
       "      <td>5.51060</td>\n",
       "      <td>5.525800</td>\n",
       "      <td>1.981600</td>\n",
       "      <td>15.515000</td>\n",
       "      <td>5.066200</td>\n",
       "      <td>-0.005000</td>\n",
       "      <td>0.418200</td>\n",
       "    </tr>\n",
       "    <tr>\n",
       "      <th>std</th>\n",
       "      <td>1443.520003</td>\n",
       "      <td>12.554597</td>\n",
       "      <td>0.940853</td>\n",
       "      <td>2.86446</td>\n",
       "      <td>2.884129</td>\n",
       "      <td>0.815227</td>\n",
       "      <td>8.703018</td>\n",
       "      <td>3.178402</td>\n",
       "      <td>1.421049</td>\n",
       "      <td>0.493313</td>\n",
       "    </tr>\n",
       "    <tr>\n",
       "      <th>min</th>\n",
       "      <td>1.000000</td>\n",
       "      <td>21.000000</td>\n",
       "      <td>1.000000</td>\n",
       "      <td>1.00000</td>\n",
       "      <td>1.000000</td>\n",
       "      <td>1.000000</td>\n",
       "      <td>1.000000</td>\n",
       "      <td>0.000000</td>\n",
       "      <td>-2.000000</td>\n",
       "      <td>0.000000</td>\n",
       "    </tr>\n",
       "    <tr>\n",
       "      <th>25%</th>\n",
       "      <td>1250.750000</td>\n",
       "      <td>32.000000</td>\n",
       "      <td>2.000000</td>\n",
       "      <td>3.00000</td>\n",
       "      <td>3.000000</td>\n",
       "      <td>1.000000</td>\n",
       "      <td>8.000000</td>\n",
       "      <td>2.000000</td>\n",
       "      <td>-1.000000</td>\n",
       "      <td>0.000000</td>\n",
       "    </tr>\n",
       "    <tr>\n",
       "      <th>50%</th>\n",
       "      <td>2500.500000</td>\n",
       "      <td>43.000000</td>\n",
       "      <td>2.000000</td>\n",
       "      <td>5.00000</td>\n",
       "      <td>5.000000</td>\n",
       "      <td>2.000000</td>\n",
       "      <td>16.000000</td>\n",
       "      <td>5.000000</td>\n",
       "      <td>0.000000</td>\n",
       "      <td>0.000000</td>\n",
       "    </tr>\n",
       "    <tr>\n",
       "      <th>75%</th>\n",
       "      <td>3750.250000</td>\n",
       "      <td>53.000000</td>\n",
       "      <td>3.000000</td>\n",
       "      <td>8.00000</td>\n",
       "      <td>8.000000</td>\n",
       "      <td>3.000000</td>\n",
       "      <td>23.000000</td>\n",
       "      <td>8.000000</td>\n",
       "      <td>1.000000</td>\n",
       "      <td>1.000000</td>\n",
       "    </tr>\n",
       "    <tr>\n",
       "      <th>max</th>\n",
       "      <td>5000.000000</td>\n",
       "      <td>64.000000</td>\n",
       "      <td>4.000000</td>\n",
       "      <td>10.00000</td>\n",
       "      <td>10.000000</td>\n",
       "      <td>3.000000</td>\n",
       "      <td>30.000000</td>\n",
       "      <td>10.000000</td>\n",
       "      <td>2.000000</td>\n",
       "      <td>1.000000</td>\n",
       "    </tr>\n",
       "  </tbody>\n",
       "</table>\n",
       "</div>"
      ],
      "text/plain": [
       "                ID          Age  AI_Interaction_Level  \\\n",
       "count  5000.000000  5000.000000           5000.000000   \n",
       "mean   2500.500000    42.575000              2.468800   \n",
       "std    1443.520003    12.554597              0.940853   \n",
       "min       1.000000    21.000000              1.000000   \n",
       "25%    1250.750000    32.000000              2.000000   \n",
       "50%    2500.500000    43.000000              2.000000   \n",
       "75%    3750.250000    53.000000              3.000000   \n",
       "max    5000.000000    64.000000              4.000000   \n",
       "\n",
       "       Satisfaction_with_AI_Services  AI_Personalization_Effectiveness  \\\n",
       "count                     5000.00000                       5000.000000   \n",
       "mean                         5.51060                          5.525800   \n",
       "std                          2.86446                          2.884129   \n",
       "min                          1.00000                          1.000000   \n",
       "25%                          3.00000                          3.000000   \n",
       "50%                          5.00000                          5.000000   \n",
       "75%                          8.00000                          8.000000   \n",
       "max                         10.00000                         10.000000   \n",
       "\n",
       "       AI_Response_Time  Overall_Usage_Frequency  \\\n",
       "count       5000.000000              5000.000000   \n",
       "mean           1.981600                15.515000   \n",
       "std            0.815227                 8.703018   \n",
       "min            1.000000                 1.000000   \n",
       "25%            1.000000                 8.000000   \n",
       "50%            2.000000                16.000000   \n",
       "75%            3.000000                23.000000   \n",
       "max            3.000000                30.000000   \n",
       "\n",
       "       Customer_Service_Interactions  Change_in_Usage_Patterns  Customer_Churn  \n",
       "count                    5000.000000               5000.000000     5000.000000  \n",
       "mean                        5.066200                 -0.005000        0.418200  \n",
       "std                         3.178402                  1.421049        0.493313  \n",
       "min                         0.000000                 -2.000000        0.000000  \n",
       "25%                         2.000000                 -1.000000        0.000000  \n",
       "50%                         5.000000                  0.000000        0.000000  \n",
       "75%                         8.000000                  1.000000        1.000000  \n",
       "max                        10.000000                  2.000000        1.000000  "
      ]
     },
     "execution_count": 10,
     "metadata": {},
     "output_type": "execute_result"
    }
   ],
   "source": [
    "train.describe(include='all')"
   ]
  },
  {
   "cell_type": "code",
   "execution_count": 28,
   "id": "710cfbd6-ef35-4ba6-927e-f22be1aa9a4c",
   "metadata": {},
   "outputs": [
    {
     "data": {
      "text/plain": [
       "ID                                  0\n",
       "Age                                 0\n",
       "AI_Interaction_Level                0\n",
       "Satisfaction_with_AI_Services       0\n",
       "AI_Personalization_Effectiveness    0\n",
       "AI_Response_Time                    0\n",
       "Overall_Usage_Frequency             0\n",
       "Customer_Service_Interactions       0\n",
       "Change_in_Usage_Patterns            0\n",
       "Customer_Churn                      0\n",
       "dtype: int64"
      ]
     },
     "execution_count": 28,
     "metadata": {},
     "output_type": "execute_result"
    }
   ],
   "source": [
    "train.isnull().sum() # no missing values"
   ]
  },
  {
   "cell_type": "markdown",
   "id": "65e772e5-5090-4400-9ee8-5e8f6165735a",
   "metadata": {},
   "source": [
    "##### Test data"
   ]
  },
  {
   "cell_type": "code",
   "execution_count": 23,
   "id": "d5cf54cd-d384-43c8-86e3-414d09d97393",
   "metadata": {},
   "outputs": [
    {
     "data": {
      "text/plain": [
       "(1250, 10)"
      ]
     },
     "execution_count": 23,
     "metadata": {},
     "output_type": "execute_result"
    }
   ],
   "source": [
    "test.shape"
   ]
  },
  {
   "cell_type": "code",
   "execution_count": 24,
   "id": "eec5ff9a-33aa-46dc-bb64-fecbb7226f9a",
   "metadata": {},
   "outputs": [
    {
     "data": {
      "text/plain": [
       "Index(['ID', 'Age', 'AI_Interaction_Level', 'Satisfaction_with_AI_Services',\n",
       "       'AI_Personalization_Effectiveness', 'AI_Response_Time',\n",
       "       'Overall_Usage_Frequency', 'Customer_Service_Interactions',\n",
       "       'Change_in_Usage_Patterns', 'Customer_Churn'],\n",
       "      dtype='object')"
      ]
     },
     "execution_count": 24,
     "metadata": {},
     "output_type": "execute_result"
    }
   ],
   "source": [
    "test.columns"
   ]
  },
  {
   "cell_type": "code",
   "execution_count": 25,
   "id": "7b7ad3a4-e535-4084-87dc-3759d919113e",
   "metadata": {},
   "outputs": [
    {
     "data": {
      "text/html": [
       "<div>\n",
       "<style scoped>\n",
       "    .dataframe tbody tr th:only-of-type {\n",
       "        vertical-align: middle;\n",
       "    }\n",
       "\n",
       "    .dataframe tbody tr th {\n",
       "        vertical-align: top;\n",
       "    }\n",
       "\n",
       "    .dataframe thead th {\n",
       "        text-align: right;\n",
       "    }\n",
       "</style>\n",
       "<table border=\"1\" class=\"dataframe\">\n",
       "  <thead>\n",
       "    <tr style=\"text-align: right;\">\n",
       "      <th></th>\n",
       "      <th>ID</th>\n",
       "      <th>Age</th>\n",
       "      <th>AI_Interaction_Level</th>\n",
       "      <th>Satisfaction_with_AI_Services</th>\n",
       "      <th>AI_Personalization_Effectiveness</th>\n",
       "      <th>AI_Response_Time</th>\n",
       "      <th>Overall_Usage_Frequency</th>\n",
       "      <th>Customer_Service_Interactions</th>\n",
       "      <th>Change_in_Usage_Patterns</th>\n",
       "      <th>Customer_Churn</th>\n",
       "    </tr>\n",
       "  </thead>\n",
       "  <tbody>\n",
       "    <tr>\n",
       "      <th>count</th>\n",
       "      <td>1250.000000</td>\n",
       "      <td>1250.000000</td>\n",
       "      <td>1250.000000</td>\n",
       "      <td>1250.000000</td>\n",
       "      <td>1250.000000</td>\n",
       "      <td>1250.000000</td>\n",
       "      <td>1250.000000</td>\n",
       "      <td>1250.000000</td>\n",
       "      <td>1250.0000</td>\n",
       "      <td>1250.000000</td>\n",
       "    </tr>\n",
       "    <tr>\n",
       "      <th>mean</th>\n",
       "      <td>625.500000</td>\n",
       "      <td>42.484000</td>\n",
       "      <td>2.464800</td>\n",
       "      <td>5.523200</td>\n",
       "      <td>5.521600</td>\n",
       "      <td>1.998400</td>\n",
       "      <td>15.598400</td>\n",
       "      <td>5.076800</td>\n",
       "      <td>0.0168</td>\n",
       "      <td>0.428800</td>\n",
       "    </tr>\n",
       "    <tr>\n",
       "      <th>std</th>\n",
       "      <td>360.988227</td>\n",
       "      <td>12.617048</td>\n",
       "      <td>0.949886</td>\n",
       "      <td>2.904929</td>\n",
       "      <td>2.921979</td>\n",
       "      <td>0.823006</td>\n",
       "      <td>8.650051</td>\n",
       "      <td>3.199108</td>\n",
       "      <td>1.4402</td>\n",
       "      <td>0.495103</td>\n",
       "    </tr>\n",
       "    <tr>\n",
       "      <th>min</th>\n",
       "      <td>1.000000</td>\n",
       "      <td>21.000000</td>\n",
       "      <td>1.000000</td>\n",
       "      <td>1.000000</td>\n",
       "      <td>1.000000</td>\n",
       "      <td>1.000000</td>\n",
       "      <td>1.000000</td>\n",
       "      <td>0.000000</td>\n",
       "      <td>-2.0000</td>\n",
       "      <td>0.000000</td>\n",
       "    </tr>\n",
       "    <tr>\n",
       "      <th>25%</th>\n",
       "      <td>313.250000</td>\n",
       "      <td>31.000000</td>\n",
       "      <td>2.000000</td>\n",
       "      <td>3.000000</td>\n",
       "      <td>3.000000</td>\n",
       "      <td>1.000000</td>\n",
       "      <td>8.000000</td>\n",
       "      <td>2.000000</td>\n",
       "      <td>-1.0000</td>\n",
       "      <td>0.000000</td>\n",
       "    </tr>\n",
       "    <tr>\n",
       "      <th>50%</th>\n",
       "      <td>625.500000</td>\n",
       "      <td>43.000000</td>\n",
       "      <td>2.000000</td>\n",
       "      <td>6.000000</td>\n",
       "      <td>6.000000</td>\n",
       "      <td>2.000000</td>\n",
       "      <td>16.000000</td>\n",
       "      <td>5.000000</td>\n",
       "      <td>0.0000</td>\n",
       "      <td>0.000000</td>\n",
       "    </tr>\n",
       "    <tr>\n",
       "      <th>75%</th>\n",
       "      <td>937.750000</td>\n",
       "      <td>53.000000</td>\n",
       "      <td>3.000000</td>\n",
       "      <td>8.000000</td>\n",
       "      <td>8.000000</td>\n",
       "      <td>3.000000</td>\n",
       "      <td>23.000000</td>\n",
       "      <td>8.000000</td>\n",
       "      <td>1.0000</td>\n",
       "      <td>1.000000</td>\n",
       "    </tr>\n",
       "    <tr>\n",
       "      <th>max</th>\n",
       "      <td>1250.000000</td>\n",
       "      <td>64.000000</td>\n",
       "      <td>4.000000</td>\n",
       "      <td>10.000000</td>\n",
       "      <td>10.000000</td>\n",
       "      <td>3.000000</td>\n",
       "      <td>30.000000</td>\n",
       "      <td>10.000000</td>\n",
       "      <td>2.0000</td>\n",
       "      <td>1.000000</td>\n",
       "    </tr>\n",
       "  </tbody>\n",
       "</table>\n",
       "</div>"
      ],
      "text/plain": [
       "                ID          Age  AI_Interaction_Level  \\\n",
       "count  1250.000000  1250.000000           1250.000000   \n",
       "mean    625.500000    42.484000              2.464800   \n",
       "std     360.988227    12.617048              0.949886   \n",
       "min       1.000000    21.000000              1.000000   \n",
       "25%     313.250000    31.000000              2.000000   \n",
       "50%     625.500000    43.000000              2.000000   \n",
       "75%     937.750000    53.000000              3.000000   \n",
       "max    1250.000000    64.000000              4.000000   \n",
       "\n",
       "       Satisfaction_with_AI_Services  AI_Personalization_Effectiveness  \\\n",
       "count                    1250.000000                       1250.000000   \n",
       "mean                        5.523200                          5.521600   \n",
       "std                         2.904929                          2.921979   \n",
       "min                         1.000000                          1.000000   \n",
       "25%                         3.000000                          3.000000   \n",
       "50%                         6.000000                          6.000000   \n",
       "75%                         8.000000                          8.000000   \n",
       "max                        10.000000                         10.000000   \n",
       "\n",
       "       AI_Response_Time  Overall_Usage_Frequency  \\\n",
       "count       1250.000000              1250.000000   \n",
       "mean           1.998400                15.598400   \n",
       "std            0.823006                 8.650051   \n",
       "min            1.000000                 1.000000   \n",
       "25%            1.000000                 8.000000   \n",
       "50%            2.000000                16.000000   \n",
       "75%            3.000000                23.000000   \n",
       "max            3.000000                30.000000   \n",
       "\n",
       "       Customer_Service_Interactions  Change_in_Usage_Patterns  Customer_Churn  \n",
       "count                    1250.000000                 1250.0000     1250.000000  \n",
       "mean                        5.076800                    0.0168        0.428800  \n",
       "std                         3.199108                    1.4402        0.495103  \n",
       "min                         0.000000                   -2.0000        0.000000  \n",
       "25%                         2.000000                   -1.0000        0.000000  \n",
       "50%                         5.000000                    0.0000        0.000000  \n",
       "75%                         8.000000                    1.0000        1.000000  \n",
       "max                        10.000000                    2.0000        1.000000  "
      ]
     },
     "execution_count": 25,
     "metadata": {},
     "output_type": "execute_result"
    }
   ],
   "source": [
    "test.describe(include='all')"
   ]
  },
  {
   "cell_type": "code",
   "execution_count": 30,
   "id": "c05b2c41-57c9-4833-b6a7-7fb850bd1715",
   "metadata": {},
   "outputs": [
    {
     "data": {
      "text/plain": [
       "ID                                  0\n",
       "Age                                 0\n",
       "AI_Interaction_Level                0\n",
       "Satisfaction_with_AI_Services       0\n",
       "AI_Personalization_Effectiveness    0\n",
       "AI_Response_Time                    0\n",
       "Overall_Usage_Frequency             0\n",
       "Customer_Service_Interactions       0\n",
       "Change_in_Usage_Patterns            0\n",
       "Customer_Churn                      0\n",
       "dtype: int64"
      ]
     },
     "execution_count": 30,
     "metadata": {},
     "output_type": "execute_result"
    }
   ],
   "source": [
    "test.isnull().sum() # no missing data"
   ]
  },
  {
   "cell_type": "markdown",
   "id": "c52fadf8-0a6d-43ca-b37b-a81c75fb291f",
   "metadata": {},
   "source": [
    "### Data Wrangling and Visualization"
   ]
  },
  {
   "cell_type": "code",
   "execution_count": 15,
   "id": "191ed928-ef35-4e9c-be07-54730a5dffb2",
   "metadata": {},
   "outputs": [
    {
     "data": {
      "text/plain": [
       "<Axes: >"
      ]
     },
     "execution_count": 15,
     "metadata": {},
     "output_type": "execute_result"
    },
    {
     "data": {
      "image/png": "[encoded data removed]",
      "text/plain": [
       "<Figure size 640x480 with 2 Axes>"
      ]
     },
     "metadata": {},
     "output_type": "display_data"
    }
   ],
   "source": [
    "# create heat map of all variables\n",
    "sns.heatmap(train.corr(), annot=True, annot_kws={\"fontsize\":7})"
   ]
  },
  {
   "cell_type": "markdown",
   "id": "2ff25afb-6a79-4adf-b12b-8c9af5296a65",
   "metadata": {},
   "source": [
    "Observe a negative, high correlation between `Age` and `AI_Interaction_Level`, and a positive high correlation between`AI_Personalization_Effectiveness` and `Satisfaction_with_AI_Services`."
   ]
  },
  {
   "cell_type": "code",
   "execution_count": 39,
   "id": "ab9d7db6-f138-4f7a-8223-93716ee778d0",
   "metadata": {},
   "outputs": [
    {
     "name": "stdout",
     "output_type": "stream",
     "text": [
      "count    5000.000000\n",
      "mean        5.525800\n",
      "std         2.884129\n",
      "min         1.000000\n",
      "25%         3.000000\n",
      "50%         5.000000\n",
      "75%         8.000000\n",
      "max        10.000000\n",
      "Name: AI_Personalization_Effectiveness, dtype: float64\n",
      "count    5000.00000\n",
      "mean        5.51060\n",
      "std         2.86446\n",
      "min         1.00000\n",
      "25%         3.00000\n",
      "50%         5.00000\n",
      "75%         8.00000\n",
      "max        10.00000\n",
      "Name: Satisfaction_with_AI_Services, dtype: float64\n"
     ]
    }
   ],
   "source": [
    "print(train['AI_Personalization_Effectiveness'].describe())\n",
    "print(train['Satisfaction_with_AI_Services'].describe())"
   ]
  },
  {
   "cell_type": "code",
   "execution_count": 49,
   "id": "f3d51c68-f2cd-4e2f-b5f7-69e965c20ae5",
   "metadata": {},
   "outputs": [
    {
     "data": {
      "image/png": "[encoded data removed]",
      "text/plain": [
       "<Figure size 640x480 with 1 Axes>"
      ]
     },
     "metadata": {},
     "output_type": "display_data"
    }
   ],
   "source": [
    "# create scatterplot of AI_Personalization_Effectiveness vs Satisfaction_with_AI_Services\n",
    "ax = sns.scatterplot(x='AI_Personalization_Effectiveness', y='Satisfaction_with_AI_Services', data=train)\n"
   ]
  },
  {
   "cell_type": "code",
   "execution_count": 57,
   "id": "b990abb2-7e23-4254-a442-2764cdaa3df4",
   "metadata": {},
   "outputs": [
    {
     "data": {
      "image/png": "[encoded data removed]",
      "text/plain": [
       "<Figure size 640x480 with 1 Axes>"
      ]
     },
     "metadata": {},
     "output_type": "display_data"
    }
   ],
   "source": [
    "# Customer Churn vs Age\n",
    "sns.boxplot(x='Customer_Churn', y='Age', data=train)\n",
    "plt.title(\"Age vs Customer Churn\")\n",
    "plt.xlabel(\"Customer Churn\")\n",
    "plt.xticks(ticks=[0,1], labels=[\"Not Churned (0)\", \"Churned (1)\"])\n",
    "plt.show()"
   ]
  },
  {
   "cell_type": "code",
   "execution_count": 33,
   "id": "9a921e40-0e67-42db-97c1-0d5e2d7fa9c6",
   "metadata": {},
   "outputs": [
    {
     "data": {
      "image/png": "[encoded data removed]",
      "text/plain": [
       "<Figure size 640x480 with 1 Axes>"
      ]
     },
     "metadata": {},
     "output_type": "display_data"
    }
   ],
   "source": [
    "# create Generation feature\n",
    "# Age ranges from 21-65 years\n",
    "# GenZ: 12-27\n",
    "# Millennials: 28-43\n",
    "# GenX: 44-59\n",
    "# Boomers II: 60-69\n",
    "\n",
    "bins = [19, 27, 43, 59, 69]\n",
    "labels = ['GenZ', 'Millennials', 'GenX', 'BoomersII']\n",
    "train['Generation'] = pd.cut(train['Age'], bins, labels=labels)\n",
    "\n",
    "# plot bar plot of Generation vs AI_Interaction_Level\n",
    "sns.barplot(x='Generation', y='AI_Interaction_Level', data=train)\n",
    "plt.title(\"Generation vs AI Interaction Level\")\n",
    "plt.show()"
   ]
  },
  {
   "cell_type": "markdown",
   "id": "c1818d06-ed9d-4e69-83c7-b96eff70e1fd",
   "metadata": {},
   "source": [
    "### Evaluate Model function"
   ]
  },
  {
   "cell_type": "code",
   "execution_count": null,
   "id": "e8ebbb17-879f-450e-a592-434a96e90610",
   "metadata": {},
   "outputs": [],
   "source": [
    "# print classification report and accuracy\n",
    "\n",
    "def print_classification_report(y_true, y_pred):\n",
    "    print(\"Classification Report:\")\n",
    "    classification_report(y_true, y_pred)\n",
    "    acc_model = accuracy_score(y_true, y_pred)\n",
    "    print(\"Accuracy Score:\" + acc_model)\n",
    "\n",
    "    return acc_model"
   ]
  },
  {
   "cell_type": "code",
   "execution_count": null,
   "id": "ba84fd52-faa7-4b04-9e70-8afadb44b88b",
   "metadata": {},
   "outputs": [],
   "source": [
    "# plot confusion matrix for model\n",
    "\n",
    "def print_conf_matrix(y_true, y_pred):\n",
    "    sns.heatmap(confusion_matrix(y_true, y_pred), annot=True)\n",
    "    plt.xlabel(\"Predicted Label\")\n",
    "    plt.ylabel(\"True Label\")"
   ]
  }
 ],
 "metadata": {
  "kernelspec": {
   "display_name": "Python 3 (ipykernel)",
   "language": "python",
   "name": "python3"
  },
  "language_info": {
   "codemirror_mode": {
    "name": "ipython",
    "version": 3
   },
   "file_extension": ".py",
   "mimetype": "text/x-python",
   "name": "python",
   "nbconvert_exporter": "python",
   "pygments_lexer": "ipython3",
   "version": "3.11.6"
  }
 },
 "nbformat": 4,
 "nbformat_minor": 5
}
